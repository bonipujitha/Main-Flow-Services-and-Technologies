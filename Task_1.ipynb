{
  "nbformat": 4,
  "nbformat_minor": 0,
  "metadata": {
    "colab": {
      "provenance": []
    },
    "kernelspec": {
      "name": "python3",
      "display_name": "Python 3"
    },
    "language_info": {
      "name": "python"
    }
  },
  "cells": [
    {
      "cell_type": "code",
      "source": [
        "# Dictionary operations\n",
        "\n",
        "# Create a dictionary\n",
        "person = {\"name\": \"John\", \"age\": 30, \"city\": \"New York\"}\n",
        "print(\"Original dictionary:\", person)\n",
        "\n",
        "# Adding a key-value pair\n",
        "person[\"job\"] = \"Engineer\"\n",
        "print(\"After adding 'job':\", person)\n",
        "\n",
        "# Removing a key-value pair\n",
        "del person[\"age\"]\n",
        "print(\"After removing 'age':\", person)\n",
        "\n",
        "# Modifying a value\n",
        "person[\"city\"] = \"San Francisco\"\n",
        "print(\"After modifying 'city':\", person)"
      ],
      "metadata": {
        "colab": {
          "base_uri": "https://localhost:8080/"
        },
        "id": "k33_PO9D_hFX",
        "outputId": "3bddb5b6-f418-499b-d698-8cd08dd9d773"
      },
      "execution_count": 2,
      "outputs": [
        {
          "output_type": "stream",
          "name": "stdout",
          "text": [
            "Original dictionary: {'name': 'John', 'age': 30, 'city': 'New York'}\n",
            "After adding 'job': {'name': 'John', 'age': 30, 'city': 'New York', 'job': 'Engineer'}\n",
            "After removing 'age': {'name': 'John', 'city': 'New York', 'job': 'Engineer'}\n",
            "After modifying 'city': {'name': 'John', 'city': 'San Francisco', 'job': 'Engineer'}\n"
          ]
        }
      ]
    },
    {
      "cell_type": "code",
      "execution_count": 1,
      "metadata": {
        "colab": {
          "base_uri": "https://localhost:8080/"
        },
        "id": "T8yLB-Xb9DSs",
        "outputId": "1d6ed4a9-d3af-4391-fac6-59089247370f"
      },
      "outputs": [
        {
          "output_type": "stream",
          "name": "stdout",
          "text": [
            "Original list: ['apple', 'banana', 'cherry']\n",
            "After adding 'date': ['apple', 'banana', 'cherry', 'date']\n",
            "After removing 'banana': ['apple', 'cherry', 'date']\n",
            "After modifying index 1: ['apple', 'blueberry', 'date']\n"
          ]
        }
      ],
      "source": [
        "# List operations\n",
        "\n",
        "# Create a list\n",
        "fruits = [\"apple\", \"banana\", \"cherry\"]\n",
        "print(\"Original list:\", fruits)\n",
        "\n",
        "# Adding an element\n",
        "fruits.append(\"date\")\n",
        "print(\"After adding 'date':\", fruits)\n",
        "\n",
        "# Removing an element\n",
        "fruits.remove(\"banana\")\n",
        "print(\"After removing 'banana':\", fruits)\n",
        "\n",
        "# Modifying an element\n",
        "fruits[1] = \"blueberry\"\n",
        "print(\"After modifying index 1:\", fruits)"
      ]
    },
    {
      "cell_type": "code",
      "source": [
        "# Set operations\n",
        "\n",
        "# Create a set\n",
        "colors = {\"red\", \"green\", \"blue\"}\n",
        "print(\"Original set:\", colors)\n",
        "\n",
        "# Adding an element\n",
        "colors.add(\"yellow\")\n",
        "print(\"After adding 'yellow':\", colors)\n",
        "\n",
        "# Removing an element\n",
        "colors.remove(\"green\")\n",
        "print(\"After removing 'green':\", colors)\n",
        "\n",
        "# Modifying elements (not possible directly, but you can remove and add)\n",
        "colors.remove(\"blue\")\n",
        "colors.add(\"navy\")\n",
        "print(\"After replacing 'blue' with 'navy':\", colors)"
      ],
      "metadata": {
        "colab": {
          "base_uri": "https://localhost:8080/"
        },
        "id": "p9e5CTPk_hTQ",
        "outputId": "18048897-637a-44de-a04b-c4dab94bd464"
      },
      "execution_count": 3,
      "outputs": [
        {
          "output_type": "stream",
          "name": "stdout",
          "text": [
            "Original set: {'blue', 'green', 'red'}\n",
            "After adding 'yellow': {'blue', 'green', 'yellow', 'red'}\n",
            "After removing 'green': {'blue', 'yellow', 'red'}\n",
            "After replacing 'blue' with 'navy': {'navy', 'yellow', 'red'}\n"
          ]
        }
      ]
    }
  ]
}